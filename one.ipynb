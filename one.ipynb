!pip install gradio
!pip install requests
import gradio as gr
import requests

url = "https://google-translate1.p.rapidapi.com/language/translate/v2"
headers = {
    "content-type": "application/x-www-form-urlencoded",
    "X-RapidAPI-Key": "4b6572816bmsh8ff241f324d2820p192215jsn18efcde35983",
    "X-RapidAPI-Host": "google-translate1.p.rapidapi.com"
}

def translate(text):
    payload = {
        "q": text,
        "source": "en",
        "target": "ur"
    }
    response = requests.post(url, data=payload, headers=headers)
    return response.json()["data"]["translations"][0]["translatedText"]

input_text = gr.inputs.Textbox(label="Enter English Text")
output_text = gr.outputs.Textbox(label="Translated Urdu Text")

gr.Interface(fn=translate, inputs=input_text, outputs=output_text, title="English to Urdu Translator", 
             description="Translate English text to Urdu using the Google Translate API.").launch()
